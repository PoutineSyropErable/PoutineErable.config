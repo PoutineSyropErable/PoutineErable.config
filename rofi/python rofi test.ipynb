{
 "cells": [
  {
   "cell_type": "code",
   "execution_count": 23,
   "metadata": {},
   "outputs": [
    {
     "name": "stdout",
     "output_type": "stream",
     "text": [
      "ho\n"
     ]
    }
   ],
   "source": [
    "import i3ipc\n",
    "import subprocess\n",
    "import os\n",
    "import uuid\n",
    "import html\n",
    "\n",
    "print(\"ho\")"
   ]
  },
  {
   "cell_type": "code",
   "execution_count": 25,
   "metadata": {},
   "outputs": [
    {
     "name": "stdout",
     "output_type": "stream",
     "text": [
      "yo\n"
     ]
    }
   ],
   "source": [
    "print(\"yo\")\n",
    "\n",
    "def get_windows():\n",
    "    i3 = i3ipc.Connection()\n",
    "    windows = []\n",
    "\n",
    "    for win in i3.get_tree().leaves():\n",
    "        windows.append({\n",
    "            'id': win.window,\n",
    "            'name': win.name,\n",
    "            'class': win.window_class,\n",
    "            'workspace': win.workspace().name\n",
    "        })\n",
    "\n",
    "    return windows\n",
    "\n",
    "\n",
    "windows = get_windows()\n",
    "\n",
    "\n",
    "\n",
    "\n",
    "def escape_markup(text):\n",
    "    return html.escape(text)\n",
    "\n",
    "\n",
    "def capture_window_preview(window_id):\n",
    "    tmpname = f\"/tmp/{uuid.uuid4()}.png\"\n",
    "    print(\"tempname:\",tmpname)\n",
    "    cmd = f\"scrot -u {tmpname}\"\n",
    "    print(\"cmd:\",cmd,\"\\n\")\n",
    "    subprocess.run(cmd, shell=True, check=True)\n",
    "    return tmpname"
   ]
  },
  {
   "cell_type": "code",
   "execution_count": 28,
   "metadata": {},
   "outputs": [
    {
     "name": "stdout",
     "output_type": "stream",
     "text": [
      "tempname: /tmp/6602d182-1d75-4929-8aff-c7bcb61476b4.png\n",
      "cmd: scrot -u /tmp/6602d182-1d75-4929-8aff-c7bcb61476b4.png \n",
      "\n",
      "tempname: /tmp/eb613a99-9185-44ab-b3a3-d031e21132eb.png\n",
      "cmd: scrot -u /tmp/eb613a99-9185-44ab-b3a3-d031e21132eb.png \n",
      "\n",
      "tempname: /tmp/589a7a78-09e9-4c3a-8eaa-aa4ea69894d9.png\n",
      "cmd: scrot -u /tmp/589a7a78-09e9-4c3a-8eaa-aa4ea69894d9.png \n",
      "\n",
      "tempname: /tmp/5a0ac9e3-c347-4172-863d-073777126408.png\n",
      "cmd: scrot -u /tmp/5a0ac9e3-c347-4172-863d-073777126408.png \n",
      "\n",
      "tempname: /tmp/0bfc704d-adde-4302-a3e1-f43f4ef3459f.png\n",
      "cmd: scrot -u /tmp/0bfc704d-adde-4302-a3e1-f43f4ef3459f.png \n",
      "\n",
      "tempname: /tmp/cba5b984-2b7d-40ca-9351-f7a7e2c0efe0.png\n",
      "cmd: scrot -u /tmp/cba5b984-2b7d-40ca-9351-f7a7e2c0efe0.png \n",
      "\n",
      "tempname: /tmp/437f4172-9660-4daf-95e6-0c4b43b786c6.png\n",
      "cmd: scrot -u /tmp/437f4172-9660-4daf-95e6-0c4b43b786c6.png \n",
      "\n"
     ]
    }
   ],
   "source": [
    "windows = get_windows()\n",
    "rofi_entries = []\n",
    "\n",
    "for win in windows:\n",
    "    preview = capture_window_preview(win['id'])\n",
    "    escaped_name = escape_markup(win['name'])\n",
    "    rofi_entries.append(f\"{win['workspace']} - {escaped_name}|{preview}\")\n",
    "\n",
    "\n",
    "rofi_cmd = 'rofi -dmenu -i -markup-rows -p \"Switch to window:\" -sep \"|\" -show-icons'\n",
    "\n",
    "result = subprocess.run(rofi_cmd, input='\\n'.join(rofi_entries), text=True, shell=True, stdout=subprocess.PIPE)\n",
    "\n",
    "if result.returncode == 0:\n",
    "    selected = result.stdout.strip().split('|')[0]\n",
    "    for win in windows:\n",
    "        if f\"{win['workspace']} - {win['name']}\" == selected:\n",
    "            i3 = i3ipc.Connection()\n",
    "            i3.command(f'[con_id={win[\"id\"]}] focus')\n",
    "            break\n"
   ]
  },
  {
   "cell_type": "code",
   "execution_count": 30,
   "metadata": {},
   "outputs": [],
   "source": [
    "#!/usr/bin/env python3\n",
    "import i3ipc\n",
    "import subprocess\n",
    "import os\n",
    "import uuid\n",
    "import html\n",
    "\n",
    "def get_windows():\n",
    "    i3 = i3ipc.Connection()\n",
    "    windows = []\n",
    "\n",
    "    for win in i3.get_tree().leaves():\n",
    "        windows.append({\n",
    "            'id': win.window,\n",
    "            'name': win.name,\n",
    "            'class': win.window_class,\n",
    "            'workspace': win.workspace().name\n",
    "        })\n",
    "\n",
    "    return windows\n",
    "\n",
    "def capture_window_preview(window_id):\n",
    "    tmpname = f\"/tmp/{uuid.uuid4()}.png\"\n",
    "    cmd = f\"scrot -u {tmpname}\"\n",
    "    subprocess.run(cmd, shell=True, check=True)\n",
    "    return tmpname\n",
    "\n",
    "def escape_markup(text):\n",
    "    return html.escape(text)\n",
    "\n",
    "def main():\n",
    "    windows = get_windows()\n",
    "    rofi_entries = []\n",
    "\n",
    "    for win in windows:\n",
    "        preview = capture_window_preview(win['id'])\n",
    "        escaped_name = escape_markup(win['name'])\n",
    "        rofi_entries.append(f\"{win['workspace']} - {escaped_name}|{preview}\")\n",
    "\n",
    "    rofi_cmd = 'rofi -dmenu -i -markup-rows -p \"Switch to window:\" -sep \"|\" -show-icons'\n",
    "    result = subprocess.run(rofi_cmd, input='\\n'.join(rofi_entries), text=True, shell=True, stdout=subprocess.PIPE)\n",
    "    \n",
    "    if result.returncode == 0:\n",
    "        selected = result.stdout.strip().split('|')[0]\n",
    "        for win in windows:\n",
    "            if f\"{win['workspace']} - {win['name']}\" == selected:\n",
    "                i3 = i3ipc.Connection()\n",
    "                i3.command(f'[con_id={win[\"id\"]}] focus')\n",
    "                break\n",
    "\n",
    "if __name__ == \"__main__\":\n",
    "    main()\n"
   ]
  },
  {
   "cell_type": "code",
   "execution_count": 35,
   "metadata": {},
   "outputs": [
    {
     "name": "stdout",
     "output_type": "stream",
     "text": [
      "CompletedProcess(args='rofi -dmenu -i -markup-rows -p \"Switch to window:\" -sep \"|\" -show-icons', returncode=1, stdout='')\n"
     ]
    }
   ],
   "source": [
    "#!/usr/bin/env python3\n",
    "import i3ipc\n",
    "import subprocess\n",
    "import os\n",
    "import uuid\n",
    "import html\n",
    "\n",
    "def get_windows():\n",
    "    i3 = i3ipc.Connection()\n",
    "    windows = []\n",
    "\n",
    "    for win in i3.get_tree().leaves():\n",
    "        windows.append({\n",
    "            'id': win.window,\n",
    "            'name': win.name,\n",
    "            'class': win.window_class,\n",
    "            'workspace': win.workspace().name\n",
    "        })\n",
    "\n",
    "    return windows\n",
    "\n",
    "def capture_window_preview(window_id):\n",
    "    tmpname = f\"/tmp/{uuid.uuid4()}.png\"\n",
    "    cmd = f\"scrot -u {tmpname}\"\n",
    "    subprocess.run(cmd, shell=True, check=True)\n",
    "    return tmpname\n",
    "\n",
    "def escape_markup(text):\n",
    "    return html.escape(text)\n",
    "\n",
    "def main():\n",
    "    windows = get_windows()\n",
    "    rofi_entries = []\n",
    "\n",
    "    for win in windows:\n",
    "        preview = capture_window_preview(win['id'])\n",
    "        escaped_name = escape_markup(win['name'])\n",
    "        rofi_entries.append(f\"{win['workspace']} - {escaped_name}|{preview}\")\n",
    "\n",
    "    rofi_cmd = 'rofi -dmenu -i -markup-rows -p \"Switch to window:\" -sep \"|\" -show-icons'\n",
    "    result = subprocess.run(rofi_cmd, input='\\n'.join(rofi_entries), text=True, shell=True, stdout=subprocess.PIPE)\n",
    "\n",
    "    print(result)\n",
    "    \n",
    "    if result.returncode == 0:\n",
    "        selected = result.stdout.strip().split('|')[0]\n",
    "        for win in windows:\n",
    "            if f\"{win['workspace']} - {win['name']}\" == selected:\n",
    "                i3 = i3ipc.Connection()\n",
    "                i3.command(f'[con_id={win[\"id\"]}] focus')\n",
    "                break\n",
    "\n",
    "if __name__ == \"__main__\":\n",
    "    main()\n"
   ]
  },
  {
   "cell_type": "code",
   "execution_count": null,
   "metadata": {},
   "outputs": [],
   "source": [
    "rofi"
   ]
  },
  {
   "cell_type": "code",
   "execution_count": null,
   "metadata": {},
   "outputs": [],
   "source": []
  }
 ],
 "metadata": {
  "kernelspec": {
   "display_name": "Python 3 (ipykernel)",
   "language": "python",
   "name": "python3"
  },
  "language_info": {
   "codemirror_mode": {
    "name": "ipython",
    "version": 3
   },
   "file_extension": ".py",
   "mimetype": "text/x-python",
   "name": "python",
   "nbconvert_exporter": "python",
   "pygments_lexer": "ipython3",
   "version": "3.12.4"
  }
 },
 "nbformat": 4,
 "nbformat_minor": 4
}
