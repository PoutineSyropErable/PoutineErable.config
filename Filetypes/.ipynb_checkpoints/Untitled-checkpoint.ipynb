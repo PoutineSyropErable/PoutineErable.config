{
 "cells": [
  {
   "cell_type": "code",
   "execution_count": 5,
   "id": "3c60c7a1-4913-4a0e-93b7-191c8a70bc2a",
   "metadata": {},
   "outputs": [
    {
     "name": "stdout",
     "output_type": "stream",
     "text": [
      "lol\n"
     ]
    }
   ],
   "source": [
    "print(\"lol\")\n",
    "\n",
    "\n",
    "#hdahdahdla"
   ]
  },
  {
   "cell_type": "code",
   "execution_count": 3,
   "id": "255f5235-2d90-41b3-8991-12be8dd1dea5",
   "metadata": {},
   "outputs": [
    {
     "name": "stdout",
     "output_type": "stream",
     "text": [
      "123\n"
     ]
    }
   ],
   "source": [
    "print(\"123\")"
   ]
  },
  {
   "cell_type": "code",
   "execution_count": null,
   "id": "8c729306-3993-4611-bed2-455830b3599f",
   "metadata": {},
   "outputs": [],
   "source": []
  }
 ],
 "metadata": {
  "kernelspec": {
   "display_name": "Python 3 (ipykernel)",
   "language": "python",
   "name": "python3"
  },
  "language_info": {
   "codemirror_mode": {
    "name": "ipython",
    "version": 3
   },
   "file_extension": ".py",
   "mimetype": "text/x-python",
   "name": "python",
   "nbconvert_exporter": "python",
   "pygments_lexer": "ipython3",
   "version": "3.12.4"
  }
 },
 "nbformat": 4,
 "nbformat_minor": 5
}
